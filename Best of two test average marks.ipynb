{
 "cells": [
  {
   "cell_type": "markdown",
   "metadata": {},
   "source": [
    "#  Write a python program to find the best of two test average marks out of three test’s marks accepted from the user"
   ]
  },
  {
   "cell_type": "markdown",
   "metadata": {},
   "source": [
    "Type 1"
   ]
  },
  {
   "cell_type": "code",
   "execution_count": 1,
   "metadata": {},
   "outputs": [
    {
     "name": "stdout",
     "output_type": "stream",
     "text": [
      "Enter the marks in the first test: 31\n",
      "Enter the marks in second test: 28\n",
      "Enter the marks in third test: 35\n"
     ]
    }
   ],
   "source": [
    "IA1 = int (input(\"Enter the marks in the first test: \"))\n",
    "IA2 = int (input(\"Enter the marks in second test: \"))\n",
    "IA3 = int (input(\"Enter the marks in third test: \"))\n",
    "\n"
   ]
  },
  {
   "cell_type": "code",
   "execution_count": 2,
   "metadata": {},
   "outputs": [
    {
     "name": "stdout",
     "output_type": "stream",
     "text": [
      "Best of two IA test average marks =  33.0\n"
     ]
    }
   ],
   "source": [
    "if (IA1 > IA2):\n",
    "    if (IA2 > IA3):\n",
    "        total = IA1 + IA2\n",
    "    else: \n",
    "        total = IA1 + IA3\n",
    "elif (IA1 > IA3):\n",
    "    total = IA1 + IA2\n",
    "else:\n",
    "    total = IA2 + IA3\n",
    "    \n",
    "Avg = total / 2\n",
    "print (\"Best of two IA test average marks = \",Avg)"
   ]
  },
  {
   "cell_type": "markdown",
   "metadata": {},
   "source": []
  },
  {
   "cell_type": "markdown",
   "metadata": {},
   "source": [
    "Type 2"
   ]
  },
  {
   "cell_type": "code",
   "execution_count": 3,
   "metadata": {},
   "outputs": [
    {
     "name": "stdout",
     "output_type": "stream",
     "text": [
      "Enter the marks in the first test: 31\n",
      "Enter the marks in second test: 28\n",
      "Enter the marks in third test: 35\n"
     ]
    }
   ],
   "source": [
    "IA1 = int (input(\"Enter the marks in the first test: \"))\n",
    "IA2 = int (input(\"Enter the marks in second test: \"))\n",
    "IA3 = int (input(\"Enter the marks in third test: \"))\n"
   ]
  },
  {
   "cell_type": "code",
   "execution_count": 4,
   "metadata": {},
   "outputs": [],
   "source": [
    "a = (IA1+IA2)/2.0\n",
    "b = (IA2+IA3)/2.0\n",
    "c = (IA1+IA3)/2.0"
   ]
  },
  {
   "cell_type": "code",
   "execution_count": 8,
   "metadata": {},
   "outputs": [
    {
     "name": "stdout",
     "output_type": "stream",
     "text": [
      "Best of two IA test average marks= \n",
      "33.0\n"
     ]
    }
   ],
   "source": [
    "print(\"Best of two IA test average marks= \")  \n",
    "if( a>b and a>c ):\n",
    "    print(a)\n",
    "if( b>a and b>c ):\n",
    "    print(b)\n",
    "else:\n",
    "    print(c)\n",
    "  "
   ]
  }
 ],
 "metadata": {
  "kernelspec": {
   "display_name": "Python 3",
   "language": "python",
   "name": "python3"
  },
  "language_info": {
   "codemirror_mode": {
    "name": "ipython",
    "version": 3
   },
   "file_extension": ".py",
   "mimetype": "text/x-python",
   "name": "python",
   "nbconvert_exporter": "python",
   "pygments_lexer": "ipython3",
   "version": "3.7.4"
  }
 },
 "nbformat": 4,
 "nbformat_minor": 2
}
